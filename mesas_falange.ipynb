{
 "cells": [
  {
   "cell_type": "code",
   "execution_count": 1,
   "metadata": {},
   "outputs": [],
   "source": [
    "%reload_ext autoreload\n",
    "%autoreload 2"
   ]
  },
  {
   "cell_type": "code",
   "execution_count": 2,
   "metadata": {},
   "outputs": [],
   "source": [
    "import glob\n",
    "import pandas as pd\n",
    "from common_functions import get_parties, get_election_results, process_election"
   ]
  },
  {
   "cell_type": "code",
   "execution_count": 3,
   "metadata": {},
   "outputs": [
    {
     "name": "stdout",
     "output_type": "stream",
     "text": [
      "(0, '/home/chema/Dropbox/data/elecciones/02201512_MESA.zip')\n",
      "(1, '/home/chema/Dropbox/data/elecciones/02201606_MESA.zip')\n",
      "(2, '/home/chema/Dropbox/data/elecciones/04201105_MESA.zip')\n",
      "(3, '/home/chema/Dropbox/data/elecciones/04201505_MESA.zip')\n"
     ]
    }
   ],
   "source": [
    "# These files come from http://www.infoelectoral.mir.es/infoelectoral/min/areaDescarga.html.\n",
    "# Scroll down to \"Extracción de datos\" to obtain the zip files with the info at the\n",
    "# ballot box level.\n",
    "datafiles = sorted(glob.glob(\"/home/chema/Dropbox/data/elecciones/*.zip\"))\n",
    "for x in enumerate(datafiles):\n",
    "    print(x)"
   ]
  },
  {
   "cell_type": "markdown",
   "metadata": {},
   "source": [
    "De acuerdo a [este archivo](http://www.ine.es/daco/daco42/codmun/codmun11/11codmunmapa.htm), Madrid es la provincia 28, municipio 079. Tenemos que filtrar usando estos códigos."
   ]
  },
  {
   "cell_type": "code",
   "execution_count": null,
   "metadata": {},
   "outputs": [],
   "source": [
    "# Select index according to list above, then run analysis\n",
    "file_idx = 2\n",
    "eldata = process_election(datafiles[file_idx])\n",
    "print(eldata.shape)"
   ]
  },
  {
   "cell_type": "code",
   "execution_count": null,
   "metadata": {},
   "outputs": [],
   "source": [
    "# Need to get the percentage of vote for a given \"table\" (ballot box) + section\n",
    "eldata_total = eldata.groupby(['section_code', 'table_code', 'dist_code'])\\\n",
    "    .agg({'votes': 'sum'})\\\n",
    "    .rename(columns = {'votes': 'total_votes'})\\\n",
    "    .reset_index()\n",
    "eldata = pd.merge(eldata, eldata_total)\n",
    "eldata['pct_votes'] = eldata['votes'] / eldata['total_votes']"
   ]
  },
  {
   "cell_type": "code",
   "execution_count": null,
   "metadata": {},
   "outputs": [],
   "source": [
    "# Now find the boxes that had the most vote to Falange\n",
    "eldata.loc[eldata['party_name'] == \"LA FALANGE\", :].sort_values('pct_votes', ascending = False).head(5)"
   ]
  },
  {
   "cell_type": "code",
   "execution_count": null,
   "metadata": {},
   "outputs": [],
   "source": [
    "dist_code = '13'\n",
    "section_code = '104'\n",
    "table_code = 'B'\n",
    "summary = eldata.loc[(eldata['section_code'] == section_code) \\\n",
    "                      & (eldata['dist_code'] == dist_code) \\\n",
    "                      & (eldata['table_code'] == table_code), :]\\\n",
    "    .sort_values('pct_votes', ascending = False)\n",
    "display(summary)"
   ]
  },
  {
   "cell_type": "code",
   "execution_count": null,
   "metadata": {},
   "outputs": [],
   "source": [
    "# Sanity check: do we get the same global numbers as the webpage reports\n",
    "# http://www.infoelectoral.mir.es/infoelectoral/min/busquedaAvanzadaAction.html\n",
    "eldata.groupby('party_name')\\\n",
    "    .agg({'votes': 'sum'})\\\n",
    "    .reset_index()\\\n",
    "    .sort_values('votes', ascending = False)"
   ]
  },
  {
   "cell_type": "code",
   "execution_count": null,
   "metadata": {},
   "outputs": [],
   "source": [
    "eldata_stats = eldata.groupby('party_name')\\\n",
    "    .agg({'pct_votes': 'mean'})\\\n",
    "    .rename(columns = {'pct_votes': 'mean'})\\\n",
    "    .reset_index()\n",
    "eldata_stats['threshold'] = 20 * eldata_stats['mean']\n",
    "eldata_with_stats = pd.merge(eldata, eldata_stats)\n",
    "bad_data = eldata_with_stats.loc[(eldata_with_stats['pct_votes'] > eldata_with_stats['threshold']) & (eldata_with_stats['votes'] > 20), :]\\\n",
    "    .groupby(['dist_code', 'section_code', 'table_code'])\\\n",
    "    .agg({'pct_votes': 'count'})\\\n",
    "    .rename(columns = {'pct_votes': 'bad_counts'})\\\n",
    "    .reset_index()\\\n",
    "    .sort_values('bad_counts', ascending = False)\n",
    "display(bad_data)"
   ]
  }
 ],
 "metadata": {
  "kernelspec": {
   "display_name": "Python 3",
   "language": "python",
   "name": "python3"
  },
  "language_info": {
   "codemirror_mode": {
    "name": "ipython",
    "version": 3
   },
   "file_extension": ".py",
   "mimetype": "text/x-python",
   "name": "python",
   "nbconvert_exporter": "python",
   "pygments_lexer": "ipython3",
   "version": "3.7.1"
  }
 },
 "nbformat": 4,
 "nbformat_minor": 2
}
